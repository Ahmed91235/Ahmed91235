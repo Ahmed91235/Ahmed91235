{
 "cells": [
  {
   "cell_type": "code",
   "execution_count": null,
   "id": "a5069282-8d47-482f-98c5-7e7f142454e0",
   "metadata": {},
   "outputs": [],
   "source": [
    "a"
   ]
  },
  {
   "cell_type": "code",
   "execution_count": null,
   "id": "f3e7f4c7-12df-49f0-8677-484a899b4b8f",
   "metadata": {},
   "outputs": [],
   "source": []
  },
  {
   "cell_type": "code",
   "execution_count": null,
   "id": "9de48eb5-0da2-4ae1-95bc-0d7a9c74d666",
   "metadata": {},
   "outputs": [],
   "source": []
  },
  {
   "cell_type": "markdown",
   "id": "e06b3a49-6713-484a-87a7-c32eabb3263e",
   "metadata": {},
   "source": [
    "adadamm"
   ]
  },
  {
   "cell_type": "markdown",
   "id": "162fc4a3-535c-4ee2-bc92-00f586ee52e1",
   "metadata": {},
   "source": []
  }
 ],
 "metadata": {
  "kernelspec": {
   "display_name": "Python 3 (ipykernel)",
   "language": "python",
   "name": "python3"
  },
  "language_info": {
   "codemirror_mode": {
    "name": "ipython",
    "version": 3
   },
   "file_extension": ".py",
   "mimetype": "text/x-python",
   "name": "python",
   "nbconvert_exporter": "python",
   "pygments_lexer": "ipython3",
   "version": "3.10.12"
  }
 },
 "nbformat": 4,
 "nbformat_minor": 5
}
